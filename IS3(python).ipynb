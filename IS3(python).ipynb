{
 "cells": [
  {
   "cell_type": "code",
   "execution_count": null,
   "id": "78964f0b",
   "metadata": {},
   "outputs": [],
   "source": [
    "import math\n",
    "from cryptography.fernet import Fernet\n",
    "\n",
    "def GCD(a,b):\n",
    "    if (b==0):\n",
    "        return a\n",
    "    else:\n",
    "        return(b,a%b)\n",
    "    \n",
    "p=int(input(\" p :\"))\n",
    "q=int(input(\" q :\"))\n",
    "\n",
    "n=p*q\n",
    "\n",
    "e=2\n",
    "k=2\n",
    "\n",
    "phi=(p-1)*(q-1)\n",
    "\n",
    "while(e<phi):\n",
    "    if(GCD(e,phi)==1):\n",
    "        break\n",
    "    else:\n",
    "        e+=1\n",
    "    \n",
    "d=int(((k*phi)+1)/e)\n",
    "\n",
    "\n",
    "print(f\"Public Key (e,n) : ({e},{n})\")\n",
    "print(f\"Private Key (d,n) : ({d},{n})\")\n",
    "\n",
    "msg = input(\"Enter you Message : \")\n",
    "\n",
    "\n",
    "key = Fernet.generate_key()\n",
    "\n",
    "fernet = Fernet(key)\n",
    "\n",
    "encryptedMSG = fernet.encrypt(msg.encode())\n",
    "decryptedMSG = fernet.decrypt(encryptedMSG).decode()\n",
    "\n",
    "print(\"original string : \", msg)\n",
    "print(\"Encrypted String : \", encryptedMSG)\n",
    "print(\"decrypted string : \", decryptedMSG)"
   ]
  },
  {
   "cell_type": "code",
   "execution_count": null,
   "id": "4cbd37ce",
   "metadata": {},
   "outputs": [],
   "source": []
  },
  {
   "cell_type": "code",
   "execution_count": null,
   "id": "208ff8d0",
   "metadata": {},
   "outputs": [],
   "source": []
  }
 ],
 "metadata": {
  "kernelspec": {
   "display_name": "Python 3 (ipykernel)",
   "language": "python",
   "name": "python3"
  },
  "language_info": {
   "codemirror_mode": {
    "name": "ipython",
    "version": 3
   },
   "file_extension": ".py",
   "mimetype": "text/x-python",
   "name": "python",
   "nbconvert_exporter": "python",
   "pygments_lexer": "ipython3",
   "version": "3.10.9"
  }
 },
 "nbformat": 4,
 "nbformat_minor": 5
}
