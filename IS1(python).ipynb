{
 "cells": [
  {
   "cell_type": "code",
   "execution_count": 4,
   "id": "682582ef",
   "metadata": {},
   "outputs": [
    {
     "name": "stdout",
     "output_type": "stream",
     "text": [
      "H\n",
      "e\n",
      "l\n",
      "l\n",
      "o\n",
      "W\n",
      "o\n",
      "r\n",
      "l\n",
      "d\n",
      "7\n",
      "55\n",
      "\u001a\n",
      "26\n",
      "\u0013\n",
      "19\n",
      "\u0013\n",
      "19\n",
      "\u0010\n",
      "16\n",
      "(\n",
      "40\n",
      "\u0010\n",
      "16\n",
      "\r\n",
      "13\n",
      "\u0013\n",
      "19\n",
      "\u001b\n",
      "27\n"
     ]
    }
   ],
   "source": [
    "str = \"HelloWorld\"\n",
    "length = len(str)\n",
    "\n",
    "for i in range (length):\n",
    "    a = ord(str[i]) & 127\n",
    "    print(chr(a))\n",
    "    \n",
    "for i in range (length):\n",
    "    a = ord(str[i])^127\n",
    "    print(chr(a))\n",
    "    print(a)"
   ]
  },
  {
   "cell_type": "code",
   "execution_count": null,
   "id": "a054ccec",
   "metadata": {},
   "outputs": [],
   "source": []
  }
 ],
 "metadata": {
  "kernelspec": {
   "display_name": "Python 3 (ipykernel)",
   "language": "python",
   "name": "python3"
  },
  "language_info": {
   "codemirror_mode": {
    "name": "ipython",
    "version": 3
   },
   "file_extension": ".py",
   "mimetype": "text/x-python",
   "name": "python",
   "nbconvert_exporter": "python",
   "pygments_lexer": "ipython3",
   "version": "3.10.9"
  }
 },
 "nbformat": 4,
 "nbformat_minor": 5
}
