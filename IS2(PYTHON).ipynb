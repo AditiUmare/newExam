{
 "cells": [
  {
   "cell_type": "code",
   "execution_count": 4,
   "id": "55e95911",
   "metadata": {},
   "outputs": [
    {
     "name": "stdout",
     "output_type": "stream",
     "text": [
      "Enter String: QuarikAltyu\n",
      "Encrypted Message: kruuAylitQa\n",
      "Decryped Message: QuarikAltyu\n"
     ]
    }
   ],
   "source": [
    "import math \n",
    "  \n",
    "key = \"wayToSimple\"\n",
    "\n",
    "def encryptMessage(msg): \n",
    "    cipher = \"\" \n",
    "    k_indx = 0\n",
    "    msg_len = float(len(msg)) \n",
    "    msg_lst = list(msg) \n",
    "    key_lst = sorted(list(key)) \n",
    "  \n",
    "    col = len(key) \n",
    "    row = int(math.ceil(msg_len / col)) \n",
    "  \n",
    "    fill_null = int((row * col) - msg_len) \n",
    "    msg_lst.extend('_' * fill_null) \n",
    "  \n",
    "    matrix = [msg_lst[i: i + col]  \n",
    "              for i in range(0, len(msg_lst), col)] \n",
    "  \n",
    "    for _ in range(col): \n",
    "        curr_idx = key.index(key_lst[k_indx]) \n",
    "        cipher += ''.join([row[curr_idx]  for row in matrix]) \n",
    "        k_indx += 1\n",
    "    return cipher \n",
    " \n",
    "def decryptMessage(cipher): \n",
    "    msg = \"\" \n",
    "    k_indx = 0\n",
    "\n",
    "    msg_indx = 0\n",
    "    msg_len = float(len(cipher)) \n",
    "    msg_lst = list(cipher) \n",
    "  \n",
    "    col = len(key) \n",
    "      \n",
    "    row = int(math.ceil(msg_len / col)) \n",
    "  \n",
    "    key_lst = sorted(list(key)) \n",
    "  \n",
    "    dec_cipher = [] \n",
    "    for _ in range(row): \n",
    "        dec_cipher += [[None] * col] \n",
    "  \n",
    "    for _ in range(col): \n",
    "        curr_idx = key.index(key_lst[k_indx]) \n",
    "  \n",
    "        for j in range(row): \n",
    "            dec_cipher[j][curr_idx] = msg_lst[msg_indx] \n",
    "            msg_indx += 1\n",
    "        k_indx += 1\n",
    "  \n",
    "    try: \n",
    "        msg = ''.join(sum(dec_cipher, [])) \n",
    "    except TypeError: \n",
    "        raise TypeError(\"This program cannot\", \n",
    "                        \"handle repeating words.\") \n",
    "  \n",
    "    null_count = msg.count('_') \n",
    "  \n",
    "    if null_count > 0: \n",
    "        return msg[: -null_count] \n",
    "  \n",
    "    return msg \n",
    "\n",
    "msg = input(\"Enter String: \")\n",
    "cipher = encryptMessage(msg) \n",
    "print(\"Encrypted Message: {}\".format(cipher))  \n",
    "print(\"Decryped Message: {}\".format(decryptMessage(cipher))) \n"
   ]
  },
  {
   "cell_type": "code",
   "execution_count": null,
   "id": "c2e8b8e3",
   "metadata": {},
   "outputs": [],
   "source": []
  }
 ],
 "metadata": {
  "kernelspec": {
   "display_name": "Python 3 (ipykernel)",
   "language": "python",
   "name": "python3"
  },
  "language_info": {
   "codemirror_mode": {
    "name": "ipython",
    "version": 3
   },
   "file_extension": ".py",
   "mimetype": "text/x-python",
   "name": "python",
   "nbconvert_exporter": "python",
   "pygments_lexer": "ipython3",
   "version": "3.10.9"
  }
 },
 "nbformat": 4,
 "nbformat_minor": 5
}
